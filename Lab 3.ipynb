{
 "cells": [
  {
   "cell_type": "code",
   "execution_count": 6,
   "id": "57844ef9",
   "metadata": {},
   "outputs": [
    {
     "name": "stdout",
     "output_type": "stream",
     "text": [
      "0\n",
      "1\n",
      "2\n",
      "3\n",
      "4\n",
      "5\n",
      "6\n",
      "7\n",
      "8\n",
      "9\n"
     ]
    }
   ],
   "source": [
    "for x in range(10):\n",
    "    print(x)"
   ]
  },
  {
   "cell_type": "code",
   "execution_count": 7,
   "id": "4cd11901",
   "metadata": {},
   "outputs": [
    {
     "name": "stdout",
     "output_type": "stream",
     "text": [
      "2\n",
      "4\n",
      "6\n",
      "8\n"
     ]
    }
   ],
   "source": [
    "for x in range(2,10,2):\n",
    "    print(x)"
   ]
  },
  {
   "cell_type": "code",
   "execution_count": 9,
   "id": "321056a2",
   "metadata": {},
   "outputs": [
    {
     "name": "stdout",
     "output_type": "stream",
     "text": [
      "2\n",
      "4\n",
      "6\n",
      "8\n",
      "10\n"
     ]
    }
   ],
   "source": [
    "x=10\n",
    "i=2\n",
    "for x in range(i,x+1,2):\n",
    "    print(x)"
   ]
  },
  {
   "cell_type": "code",
   "execution_count": 12,
   "id": "5736f26c",
   "metadata": {},
   "outputs": [
    {
     "name": "stdout",
     "output_type": "stream",
     "text": [
      "50\n",
      "48\n",
      "46\n",
      "44\n",
      "42\n",
      "40\n",
      "38\n",
      "36\n",
      "34\n",
      "32\n",
      "30\n",
      "28\n",
      "26\n",
      "24\n",
      "22\n",
      "20\n",
      "18\n",
      "16\n",
      "14\n",
      "12\n",
      "10\n",
      "8\n",
      "6\n",
      "4\n",
      "2\n"
     ]
    }
   ],
   "source": [
    "x=0\n",
    "i=50\n",
    "for x in range(i,x,2*-1):\n",
    "    print(x)"
   ]
  },
  {
   "cell_type": "code",
   "execution_count": 13,
   "id": "a9b9be67",
   "metadata": {},
   "outputs": [
    {
     "name": "stdout",
     "output_type": "stream",
     "text": [
      "50 48 46 44 42 40 38 36 34 32 30 28 26 24 22 20 18 16 14 12 10 8 6 4 2 "
     ]
    }
   ],
   "source": [
    "x=0\n",
    "i=50\n",
    "for x in range(i,x,2*-1):\n",
    "    print(x,end =\" \")"
   ]
  },
  {
   "cell_type": "code",
   "execution_count": 15,
   "id": "a28aa389",
   "metadata": {},
   "outputs": [
    {
     "name": "stdout",
     "output_type": "stream",
     "text": [
      "Enter a number : \n",
      "25\n",
      "3 6 9 12 15 18 21 24 "
     ]
    }
   ],
   "source": [
    "i=int(input(\"Enter a number : \\n\"))\n",
    "for x in range(1,i):\n",
    "    if x % 3==0:\n",
    "        print(x,end=\" \")"
   ]
  },
  {
   "cell_type": "code",
   "execution_count": 16,
   "id": "dd3c1137",
   "metadata": {},
   "outputs": [
    {
     "name": "stdout",
     "output_type": "stream",
     "text": [
      "Enter a number : \n",
      "24\n",
      "This is not a prime number :  24\n"
     ]
    }
   ],
   "source": [
    "x=int(input(\"Enter a number : \\n\"))\n",
    "counter=0\n",
    "for i in range(1,x+1):\n",
    "    if x%i==0:\n",
    "        counter+=1\n",
    "if counter==2:\n",
    "    print(\"This is a prime number : \",x)\n",
    "else:\n",
    "    print (\"This is not a prime number : \",x)"
   ]
  },
  {
   "cell_type": "code",
   "execution_count": 17,
   "id": "46be7a2f",
   "metadata": {},
   "outputs": [
    {
     "name": "stdout",
     "output_type": "stream",
     "text": [
      "Enter a number : \n",
      "2\n",
      "2  is a prime number \n"
     ]
    }
   ],
   "source": [
    "x=int(input(\"Enter a number : \\n\"))\n",
    "i=x%10\n",
    "if i%2==0:\n",
    "    print(i , \" is a prime number \")"
   ]
  },
  {
   "cell_type": "code",
   "execution_count": 19,
   "id": "f5ac14cc",
   "metadata": {},
   "outputs": [
    {
     "name": "stdout",
     "output_type": "stream",
     "text": [
      "Enter a number : \n",
      "34\n",
      "Even :  1  Odd  1\n"
     ]
    }
   ],
   "source": [
    "x=int(input(\"Enter a number : \\n\"))\n",
    "even=0\n",
    "odd=0\n",
    "while x!=0:\n",
    "    a=x%10\n",
    "    x=x//10\n",
    "    if a%2==0:\n",
    "        even+=1\n",
    "    else:\n",
    "        odd+=1\n",
    "\n",
    "print (\"Even : \",even, \" Odd \",odd)"
   ]
  },
  {
   "cell_type": "code",
   "execution_count": 21,
   "id": "7c86a11b",
   "metadata": {},
   "outputs": [
    {
     "name": "stdout",
     "output_type": "stream",
     "text": [
      "111 113 115 117 119 131 133 135 137 139 151 153 155 157 159 171 173 175 177 179 191 193 195 197 199 311 313 315 317 319 331 333 335 337 339 351 353 355 357 359 371 373 375 377 379 391 393 395 397 399 511 513 515 517 519 531 533 535 537 539 551 553 555 557 559 571 573 575 577 579 591 593 595 597 599 711 713 715 717 719 731 733 735 737 739 751 753 755 757 759 771 773 775 777 779 791 793 795 797 799 911 913 915 917 919 931 933 935 937 939 951 953 955 957 959 971 973 975 977 979 991 993 995 997 "
     ]
    }
   ],
   "source": [
    "counter=0\n",
    "for x in range(111,999,1):\n",
    "    a=x\n",
    "    counter=0\n",
    "    while a!=0:\n",
    "        if a%2!=0:\n",
    "            counter+=1\n",
    "        a//=10\n",
    "    if counter==3:\n",
    "        print(x,end=\" \")\n",
    "    \n",
    "        \n",
    "        "
   ]
  },
  {
   "cell_type": "code",
   "execution_count": 23,
   "id": "7f1ae579",
   "metadata": {},
   "outputs": [
    {
     "name": "stdout",
     "output_type": "stream",
     "text": [
      "Hello World\n",
      "3\n"
     ]
    }
   ],
   "source": [
    "def abc(a,b):\n",
    "    print (\"Hello World\")\n",
    "    return a+b\n",
    "print(abc(1,2))"
   ]
  },
  {
   "cell_type": "code",
   "execution_count": 24,
   "id": "9388a147",
   "metadata": {},
   "outputs": [
    {
     "name": "stdout",
     "output_type": "stream",
     "text": [
      "Hello World\n",
      "15 10\n"
     ]
    }
   ],
   "source": [
    "def abc(a,b):\n",
    "    print (\"Hello World\")\n",
    "    return a+b,b\n",
    "x,y=abc(5,10)\n",
    "print (x,y)\n"
   ]
  },
  {
   "cell_type": "code",
   "execution_count": 27,
   "id": "354b6deb",
   "metadata": {},
   "outputs": [
    {
     "name": "stdout",
     "output_type": "stream",
     "text": [
      "Hello World\n",
      "15 10\n"
     ]
    }
   ],
   "source": [
    "x,_=abc(5,10)\n",
    "print(x,_)"
   ]
  },
  {
   "cell_type": "code",
   "execution_count": null,
   "id": "f8d21556",
   "metadata": {},
   "outputs": [],
   "source": []
  }
 ],
 "metadata": {
  "kernelspec": {
   "display_name": "Python 3",
   "language": "python",
   "name": "python3"
  },
  "language_info": {
   "codemirror_mode": {
    "name": "ipython",
    "version": 3
   },
   "file_extension": ".py",
   "mimetype": "text/x-python",
   "name": "python",
   "nbconvert_exporter": "python",
   "pygments_lexer": "ipython3",
   "version": "3.8.8"
  }
 },
 "nbformat": 4,
 "nbformat_minor": 5
}

{
 "cells": [
  {
   "cell_type": "code",
   "execution_count": 20,
   "id": "f2456102",
   "metadata": {},
   "outputs": [
    {
     "name": "stdout",
     "output_type": "stream",
     "text": [
      "Hello World\n",
      "M\n",
      "True\n"
     ]
    }
   ],
   "source": [
    "a=\"Hello World\"\n",
    "print(a)\n",
    "a=\"My name is Talha\"\n",
    "print(a[0])\n",
    "print(\"Talha\" in a)\n"
   ]
  },
  {
   "cell_type": "code",
   "execution_count": 29,
   "id": "9813980c",
   "metadata": {},
   "outputs": [
    {
     "name": "stdout",
     "output_type": "stream",
     "text": [
      "My name is Talha\n",
      "\n",
      "a\n",
      "a\n",
      "a\n"
     ]
    }
   ],
   "source": [
    "for x in a:\n",
    "    print(x,end='')\n",
    "print(\"\\n\")\n",
    "for x in a:\n",
    "    if x=='a':\n",
    "        print(x)"
   ]
  },
  {
   "cell_type": "code",
   "execution_count": 117,
   "id": "9054ee21",
   "metadata": {},
   "outputs": [
    {
     "name": "stdout",
     "output_type": "stream",
     "text": [
      "['My', 'name', 'is', 'Talha'] \n",
      " My name is Talha\n"
     ]
    }
   ],
   "source": [
    "b=a\n",
    "b=b.split(\" \")\n",
    "print (b,\"\\n\",a)"
   ]
  },
  {
   "cell_type": "code",
   "execution_count": 30,
   "id": "60e9ee72",
   "metadata": {},
   "outputs": [
    {
     "name": "stdout",
     "output_type": "stream",
     "text": [
      "16\n"
     ]
    }
   ],
   "source": [
    "print(len(a))"
   ]
  },
  {
   "cell_type": "code",
   "execution_count": 148,
   "id": "0c2ecdc1",
   "metadata": {},
   "outputs": [
    {
     "name": "stdout",
     "output_type": "stream",
     "text": [
      "My name is Talha\n",
      "My\n",
      "name\n",
      "is\n"
     ]
    },
    {
     "data": {
      "text/plain": [
       "'Mynameis'"
      ]
     },
     "execution_count": 148,
     "metadata": {},
     "output_type": "execute_result"
    }
   ],
   "source": [
    "c=''\n",
    "if \"Talha\" in a:\n",
    "    print(a)\n",
    "for x in b:\n",
    "    if \"Talha\"not in x:\n",
    "        c+=x\n",
    "        print(x)\n",
    "c"
   ]
  },
  {
   "cell_type": "code",
   "execution_count": 52,
   "id": "7fc66633",
   "metadata": {},
   "outputs": [
    {
     "name": "stdout",
     "output_type": "stream",
     "text": [
      "My name is Talha\n"
     ]
    },
    {
     "data": {
      "text/plain": [
       "'ahlaT si eman yM'"
      ]
     },
     "execution_count": 52,
     "metadata": {},
     "output_type": "execute_result"
    }
   ],
   "source": [
    "print(a)\n",
    "a[-1::-1]"
   ]
  },
  {
   "cell_type": "code",
   "execution_count": 53,
   "id": "ae2e3416",
   "metadata": {},
   "outputs": [
    {
     "data": {
      "text/plain": [
       "'My name is Talha'"
      ]
     },
     "execution_count": 53,
     "metadata": {},
     "output_type": "execute_result"
    }
   ],
   "source": [
    "a.strip()"
   ]
  },
  {
   "cell_type": "code",
   "execution_count": 55,
   "id": "4ba8e67a",
   "metadata": {},
   "outputs": [
    {
     "name": "stdout",
     "output_type": "stream",
     "text": [
      "My nime is Tilhi\n",
      "My name is Talha\n"
     ]
    }
   ],
   "source": [
    "print(a.replace('a','i'))\n",
    "print(a)"
   ]
  },
  {
   "cell_type": "code",
   "execution_count": 72,
   "id": "d7ffd3b6",
   "metadata": {},
   "outputs": [
    {
     "name": "stdout",
     "output_type": "stream",
     "text": [
      "My name is Talha 22\n",
      "Enter ur nameTalha\n",
      "My name is Talha and my age is 22\n"
     ]
    }
   ],
   "source": [
    "age=22\n",
    "print(a+\" \"+str(age))\n",
    "x=input(\"Enter ur name\")\n",
    "sent=\"My name is {} and my age is {}\"\n",
    "\n",
    "print(sent.format(x,age))"
   ]
  },
  {
   "cell_type": "code",
   "execution_count": 86,
   "id": "ce510cbe",
   "metadata": {},
   "outputs": [
    {
     "name": "stdout",
     "output_type": "stream",
     "text": [
      "We are's gona \"enjoy\" this\n"
     ]
    }
   ],
   "source": [
    "txt = 'We are\\'s gona \\\"enjoy\\\" this' \n",
    "print(txt)"
   ]
  },
  {
   "cell_type": "code",
   "execution_count": 101,
   "id": "336f4377",
   "metadata": {},
   "outputs": [
    {
     "name": "stdout",
     "output_type": "stream",
     "text": [
      "My name is Talha\n",
      "My name is talha\n",
      "my name is talha\n",
      "My name is Talha\n",
      "3\n",
      "b'My name is Talha'\n"
     ]
    }
   ],
   "source": [
    "print(a)\n",
    "print(a.capitalize())\n",
    "print(a.casefold())\n",
    "print(a.center(5,\"x\"))\n",
    "print(a.count('a'))\n",
    "print(a.encode())"
   ]
  },
  {
   "cell_type": "code",
   "execution_count": 155,
   "id": "5795fe0f",
   "metadata": {},
   "outputs": [
    {
     "name": "stdout",
     "output_type": "stream",
     "text": [
      "4\n",
      "The Final String : Str2  =  My name Talha \n"
     ]
    }
   ],
   "source": [
    "str2 = ''\n",
    "a=0\n",
    "print(len(b))\n",
    "for i in b:\n",
    "    if \"is\" not in i:\n",
    "        str2 = str2 + i\n",
    "        a=1\n",
    "    if a==1:\n",
    "        str2+=\" \"\n",
    "        a=0\n",
    "    \n",
    "print(\"The Final String : Str2  = \", str2)"
   ]
  },
  {
   "cell_type": "code",
   "execution_count": null,
   "id": "ffe4cd48",
   "metadata": {},
   "outputs": [],
   "source": []
  }
 ],
 "metadata": {
  "kernelspec": {
   "display_name": "Python 3 (ipykernel)",
   "language": "python",
   "name": "python3"
  },
  "language_info": {
   "codemirror_mode": {
    "name": "ipython",
    "version": 3
   },
   "file_extension": ".py",
   "mimetype": "text/x-python",
   "name": "python",
   "nbconvert_exporter": "python",
   "pygments_lexer": "ipython3",
   "version": "3.9.7"
  }
 },
 "nbformat": 4,
 "nbformat_minor": 5
}

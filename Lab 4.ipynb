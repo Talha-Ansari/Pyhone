{
 "cells": [
  {
   "cell_type": "code",
   "execution_count": 1,
   "id": "5574766f",
   "metadata": {},
   "outputs": [],
   "source": [
    "#Lecture 4"
   ]
  },
  {
   "cell_type": "code",
   "execution_count": 2,
   "id": "ea40f40b",
   "metadata": {},
   "outputs": [
    {
     "data": {
      "text/plain": [
       "str"
      ]
     },
     "execution_count": 2,
     "metadata": {},
     "output_type": "execute_result"
    }
   ],
   "source": [
    "s=\"University of central punjab\"\n",
    "type(s)"
   ]
  },
  {
   "cell_type": "code",
   "execution_count": 3,
   "id": "e0cb76b9",
   "metadata": {},
   "outputs": [
    {
     "name": "stdout",
     "output_type": "stream",
     "text": [
      "University of central punjab\n"
     ]
    }
   ],
   "source": [
    "print(s)"
   ]
  },
  {
   "cell_type": "code",
   "execution_count": 4,
   "id": "a4b8ace0",
   "metadata": {},
   "outputs": [
    {
     "data": {
      "text/plain": [
       "'University of central punjab'"
      ]
     },
     "execution_count": 4,
     "metadata": {},
     "output_type": "execute_result"
    }
   ],
   "source": [
    "s"
   ]
  },
  {
   "cell_type": "code",
   "execution_count": 5,
   "id": "c5c03c08",
   "metadata": {},
   "outputs": [
    {
     "data": {
      "text/plain": [
       "'University of centra'"
      ]
     },
     "execution_count": 5,
     "metadata": {},
     "output_type": "execute_result"
    }
   ],
   "source": [
    "s[0:10]\n",
    "s[0:20]"
   ]
  },
  {
   "cell_type": "code",
   "execution_count": 6,
   "id": "1e1e1b42",
   "metadata": {},
   "outputs": [
    {
     "data": {
      "text/plain": [
       "'Uiest'"
      ]
     },
     "execution_count": 6,
     "metadata": {},
     "output_type": "execute_result"
    }
   ],
   "source": [
    "s[0:10:2]"
   ]
  },
  {
   "cell_type": "code",
   "execution_count": 7,
   "id": "96ef3fe6",
   "metadata": {},
   "outputs": [
    {
     "data": {
      "text/plain": [
       "'bajnup lartnec fo ytisrevin'"
      ]
     },
     "execution_count": 7,
     "metadata": {},
     "output_type": "execute_result"
    }
   ],
   "source": [
    "s[30:0:-1]"
   ]
  },
  {
   "cell_type": "code",
   "execution_count": 8,
   "id": "fa4ccf2a",
   "metadata": {},
   "outputs": [
    {
     "data": {
      "text/plain": [
       "'University of central punjab'"
      ]
     },
     "execution_count": 8,
     "metadata": {},
     "output_type": "execute_result"
    }
   ],
   "source": [
    "s[0:40]"
   ]
  },
  {
   "cell_type": "code",
   "execution_count": 9,
   "id": "66147857",
   "metadata": {},
   "outputs": [
    {
     "data": {
      "text/plain": [
       "'unjab'"
      ]
     },
     "execution_count": 9,
     "metadata": {},
     "output_type": "execute_result"
    }
   ],
   "source": [
    "s[-5:]"
   ]
  },
  {
   "cell_type": "code",
   "execution_count": 10,
   "id": "7588f036",
   "metadata": {},
   "outputs": [
    {
     "data": {
      "text/plain": [
       "' eta uj'"
      ]
     },
     "execution_count": 10,
     "metadata": {},
     "output_type": "execute_result"
    }
   ],
   "source": [
    "s[-15:-1:2]"
   ]
  },
  {
   "cell_type": "code",
   "execution_count": 11,
   "id": "96426fc2",
   "metadata": {},
   "outputs": [
    {
     "data": {
      "text/plain": [
       "' eta ujb'"
      ]
     },
     "execution_count": 11,
     "metadata": {},
     "output_type": "execute_result"
    }
   ],
   "source": [
    "s[-15::2]"
   ]
  },
  {
   "cell_type": "code",
   "execution_count": 15,
   "id": "aeea8300",
   "metadata": {},
   "outputs": [
    {
     "data": {
      "text/plain": [
       "'University of central punjab Lahore'"
      ]
     },
     "execution_count": 15,
     "metadata": {},
     "output_type": "execute_result"
    }
   ],
   "source": [
    "city=\" Lahore\"\n",
    "ucp =s+ city\n",
    "ucp"
   ]
  },
  {
   "cell_type": "code",
   "execution_count": 16,
   "id": "77db328f",
   "metadata": {},
   "outputs": [
    {
     "data": {
      "text/plain": [
       "'university of central punjab lahore'"
      ]
     },
     "execution_count": 16,
     "metadata": {},
     "output_type": "execute_result"
    }
   ],
   "source": [
    "ucp.lower()"
   ]
  },
  {
   "cell_type": "code",
   "execution_count": 17,
   "id": "e4a79eb0",
   "metadata": {},
   "outputs": [
    {
     "data": {
      "text/plain": [
       "'UNIVERSITY OF CENTRAL PUNJAB LAHORE'"
      ]
     },
     "execution_count": 17,
     "metadata": {},
     "output_type": "execute_result"
    }
   ],
   "source": [
    "ucp.upper()"
   ]
  },
  {
   "cell_type": "code",
   "execution_count": 18,
   "id": "bc70a490",
   "metadata": {},
   "outputs": [
    {
     "data": {
      "text/plain": [
       "'University of central punjab Lahore'"
      ]
     },
     "execution_count": 18,
     "metadata": {},
     "output_type": "execute_result"
    }
   ],
   "source": [
    "ucp"
   ]
  },
  {
   "cell_type": "code",
   "execution_count": 19,
   "id": "ec539e53",
   "metadata": {},
   "outputs": [
    {
     "data": {
      "text/plain": [
       "35"
      ]
     },
     "execution_count": 19,
     "metadata": {},
     "output_type": "execute_result"
    }
   ],
   "source": [
    "len(ucp)"
   ]
  },
  {
   "cell_type": "code",
   "execution_count": 22,
   "id": "bb599c87",
   "metadata": {},
   "outputs": [
    {
     "data": {
      "text/plain": [
       "['Un', 'vers', 'ty of central punjab Lahore']"
      ]
     },
     "execution_count": 22,
     "metadata": {},
     "output_type": "execute_result"
    }
   ],
   "source": [
    "ucp.split('i')"
   ]
  },
  {
   "cell_type": "code",
   "execution_count": 23,
   "id": "fa5e622b",
   "metadata": {},
   "outputs": [
    {
     "data": {
      "text/plain": [
       "['University', 'of', 'central', 'punjab', 'Lahore']"
      ]
     },
     "execution_count": 23,
     "metadata": {},
     "output_type": "execute_result"
    }
   ],
   "source": [
    "ucp.split(\" \")"
   ]
  },
  {
   "cell_type": "code",
   "execution_count": 99,
   "id": "309b03f3",
   "metadata": {},
   "outputs": [
    {
     "data": {
      "text/plain": [
       "['On',\n",
       " '15',\n",
       " 'August',\n",
       " '1996,',\n",
       " 'The',\n",
       " 'Punjab',\n",
       " 'Group',\n",
       " 'of',\n",
       " 'Colleges',\n",
       " 'petitioned',\n",
       " 'Government',\n",
       " 'of',\n",
       " 'Punjab',\n",
       " 'for',\n",
       " 'the',\n",
       " 'establishment',\n",
       " 'of',\n",
       " 'a',\n",
       " 'university',\n",
       " 'in',\n",
       " 'the',\n",
       " 'province.',\n",
       " '\\\\Punjab',\n",
       " 'Institute',\n",
       " 'of',\n",
       " 'Computer',\n",
       " 'Science',\n",
       " '(PICS),',\n",
       " 'Punjab',\n",
       " 'College',\n",
       " 'of',\n",
       " 'Commerce',\n",
       " '(PCC),',\n",
       " 'Punjab',\n",
       " 'Law',\n",
       " 'College',\n",
       " '(PLC)',\n",
       " 'and',\n",
       " 'Punjab',\n",
       " 'College',\n",
       " 'of',\n",
       " 'Information',\n",
       " 'Technology',\n",
       " '(PCIT)',\n",
       " 'formed',\n",
       " 'the',\n",
       " 'core',\n",
       " 'of',\n",
       " 'the',\n",
       " 'university',\n",
       " 'at',\n",
       " 'the',\n",
       " 'time',\n",
       " 'of',\n",
       " 'establishment.Following',\n",
       " 'a',\n",
       " 'restructuring',\n",
       " 'in',\n",
       " '2004,',\n",
       " 'the',\n",
       " 'PCBA',\n",
       " 'and',\n",
       " 'PICS',\n",
       " 'operate',\n",
       " 'under',\n",
       " 'the',\n",
       " 'Faculty',\n",
       " 'of',\n",
       " 'Management',\n",
       " 'Studies',\n",
       " 'and',\n",
       " 'Faculty',\n",
       " 'of',\n",
       " 'Information',\n",
       " 'Technology',\n",
       " 'of',\n",
       " 'the',\n",
       " 'University',\n",
       " 'of',\n",
       " 'Central',\n",
       " 'Punjab',\n",
       " 'respectively.',\n",
       " 'The',\n",
       " 'Punjab',\n",
       " 'Colleges',\n",
       " 'of',\n",
       " 'Commerce',\n",
       " 'and',\n",
       " 'the',\n",
       " 'Punjab',\n",
       " 'Law',\n",
       " 'College',\n",
       " 'respectively',\n",
       " 'function',\n",
       " 'under',\n",
       " 'the',\n",
       " 'Faculties',\n",
       " 'of',\n",
       " 'Commerce',\n",
       " 'and',\n",
       " 'of',\n",
       " 'Law',\n",
       " 'of',\n",
       " 'the',\n",
       " 'University',\n",
       " 'of',\n",
       " 'Central',\n",
       " 'Punjab.',\n",
       " 'The',\n",
       " 'Faculty',\n",
       " 'of',\n",
       " 'Engineering',\n",
       " '(FOE)',\n",
       " 'was',\n",
       " 'introduced',\n",
       " 'in',\n",
       " '2002.']"
      ]
     },
     "execution_count": 99,
     "metadata": {},
     "output_type": "execute_result"
    }
   ],
   "source": [
    "ucpHistory =\"On 15 August 1996, The Punjab Group of Colleges petitioned Government of Punjab for the establishment of a university in the province. \\Punjab Institute of Computer Science (PICS), Punjab College of Commerce (PCC), Punjab Law College (PLC) and Punjab College of Information Technology (PCIT) formed the core of the university at the time of establishment.Following a restructuring in 2004, the PCBA and PICS operate under the Faculty of Management Studies and Faculty of Information Technology of the University of Central Punjab respectively. The Punjab Colleges of Commerce and the Punjab Law College respectively function under the Faculties of Commerce and of Law of the University of Central Punjab. The Faculty of Engineering (FOE) was introduced in 2002.\"\n",
    "ucpHistory.split(\" \")"
   ]
  },
  {
   "cell_type": "code",
   "execution_count": 90,
   "id": "472c1902",
   "metadata": {},
   "outputs": [
    {
     "data": {
      "text/plain": [
       "611"
      ]
     },
     "execution_count": 90,
     "metadata": {},
     "output_type": "execute_result"
    }
   ],
   "source": [
    "#Task 1\n",
    "length=len(ucpHistory)\n",
    "counter=0\n",
    "for x in range(length):\n",
    "   if ucpHistory[x]>='a'and ucpHistory[x]<='z' or ucpHistory[x]>='A'and ucpHistory[x]<='Z':\n",
    "    counter+=1\n",
    "counter"
   ]
  },
  {
   "cell_type": "code",
   "execution_count": 109,
   "id": "1b75b889",
   "metadata": {},
   "outputs": [
    {
     "name": "stdout",
     "output_type": "stream",
     "text": [
      "O\n",
      "n\n",
      " \n",
      "1\n",
      "5\n",
      " \n",
      "A\n",
      "u\n",
      "g\n",
      "u\n",
      "s\n",
      "t\n",
      " \n",
      "1\n",
      "9\n",
      "9\n",
      "6\n",
      ",\n",
      " \n",
      "T\n",
      "h\n",
      "e\n",
      " \n",
      "P\n",
      "u\n",
      "n\n",
      "j\n",
      "a\n",
      "b\n",
      " \n",
      "G\n",
      "r\n",
      "o\n",
      "u\n",
      "p\n",
      " \n",
      "o\n",
      "f\n",
      " \n",
      "C\n",
      "o\n",
      "l\n",
      "l\n",
      "e\n",
      "g\n",
      "e\n",
      "s\n",
      " \n",
      "p\n",
      "e\n",
      "t\n",
      "i\n",
      "t\n",
      "i\n",
      "o\n",
      "n\n",
      "e\n",
      "d\n",
      " \n",
      "G\n",
      "o\n",
      "v\n",
      "e\n",
      "r\n",
      "n\n",
      "m\n",
      "e\n",
      "n\n",
      "t\n",
      " \n",
      "o\n",
      "f\n",
      " \n",
      "P\n",
      "u\n",
      "n\n",
      "j\n",
      "a\n",
      "b\n",
      " \n",
      "f\n",
      "o\n",
      "r\n",
      " \n",
      "t\n",
      "h\n",
      "e\n",
      " \n",
      "e\n",
      "s\n",
      "t\n",
      "a\n",
      "b\n",
      "l\n",
      "i\n",
      "s\n",
      "h\n",
      "m\n",
      "e\n",
      "n\n",
      "t\n",
      " \n",
      "o\n",
      "f\n",
      " \n",
      "a\n",
      " \n",
      "u\n",
      "n\n",
      "i\n",
      "v\n",
      "e\n",
      "r\n",
      "s\n",
      "i\n",
      "t\n",
      "y\n",
      " \n",
      "i\n",
      "n\n",
      " \n",
      "t\n",
      "h\n",
      "e\n",
      " \n",
      "p\n",
      "r\n",
      "o\n",
      "v\n",
      "i\n",
      "n\n",
      "c\n",
      "e\n",
      ".\n",
      " \n",
      "\\\n",
      "P\n",
      "u\n",
      "n\n",
      "j\n",
      "a\n",
      "b\n",
      " \n",
      "I\n",
      "n\n",
      "s\n",
      "t\n",
      "i\n",
      "t\n",
      "u\n",
      "t\n",
      "e\n",
      " \n",
      "o\n",
      "f\n",
      " \n",
      "C\n",
      "o\n",
      "m\n",
      "p\n",
      "u\n",
      "t\n",
      "e\n",
      "r\n",
      " \n",
      "S\n",
      "c\n",
      "i\n",
      "e\n",
      "n\n",
      "c\n",
      "e\n",
      " \n",
      "(\n",
      "P\n",
      "I\n",
      "C\n",
      "S\n",
      ")\n",
      ",\n",
      " \n",
      "P\n",
      "u\n",
      "n\n",
      "j\n",
      "a\n",
      "b\n",
      " \n",
      "C\n",
      "o\n",
      "l\n",
      "l\n",
      "e\n",
      "g\n",
      "e\n",
      " \n",
      "o\n",
      "f\n",
      " \n",
      "C\n",
      "o\n",
      "m\n",
      "m\n",
      "e\n",
      "r\n",
      "c\n",
      "e\n",
      " \n",
      "(\n",
      "P\n",
      "C\n",
      "C\n",
      ")\n",
      ",\n",
      " \n",
      "P\n",
      "u\n",
      "n\n",
      "j\n",
      "a\n",
      "b\n",
      " \n",
      "L\n",
      "a\n",
      "w\n",
      " \n",
      "C\n",
      "o\n",
      "l\n",
      "l\n",
      "e\n",
      "g\n",
      "e\n",
      " \n",
      "(\n",
      "P\n",
      "L\n",
      "C\n",
      ")\n",
      " \n",
      "a\n",
      "n\n",
      "d\n",
      " \n",
      "P\n",
      "u\n",
      "n\n",
      "j\n",
      "a\n",
      "b\n",
      " \n",
      "C\n",
      "o\n",
      "l\n",
      "l\n",
      "e\n",
      "g\n",
      "e\n",
      " \n",
      "o\n",
      "f\n",
      " \n",
      "I\n",
      "n\n",
      "f\n",
      "o\n",
      "r\n",
      "m\n",
      "a\n",
      "t\n",
      "i\n",
      "o\n",
      "n\n",
      " \n",
      "T\n",
      "e\n",
      "c\n",
      "h\n",
      "n\n",
      "o\n",
      "l\n",
      "o\n",
      "g\n",
      "y\n",
      " \n",
      "(\n",
      "P\n",
      "C\n",
      "I\n",
      "T\n",
      ")\n",
      " \n",
      "f\n",
      "o\n",
      "r\n",
      "m\n",
      "e\n",
      "d\n",
      " \n",
      "t\n",
      "h\n",
      "e\n",
      " \n",
      "c\n",
      "o\n",
      "r\n",
      "e\n",
      " \n",
      "o\n",
      "f\n",
      " \n",
      "t\n",
      "h\n",
      "e\n",
      " \n",
      "u\n",
      "n\n",
      "i\n",
      "v\n",
      "e\n",
      "r\n",
      "s\n",
      "i\n",
      "t\n",
      "y\n",
      " \n",
      "a\n",
      "t\n",
      " \n",
      "t\n",
      "h\n",
      "e\n",
      " \n",
      "t\n",
      "i\n",
      "m\n",
      "e\n",
      " \n",
      "o\n",
      "f\n",
      " \n",
      "e\n",
      "s\n",
      "t\n",
      "a\n",
      "b\n",
      "l\n",
      "i\n",
      "s\n",
      "h\n",
      "m\n",
      "e\n",
      "n\n",
      "t\n",
      ".\n",
      "F\n",
      "o\n",
      "l\n",
      "l\n",
      "o\n",
      "w\n",
      "i\n",
      "n\n",
      "g\n",
      " \n",
      "a\n",
      " \n",
      "r\n",
      "e\n",
      "s\n",
      "t\n",
      "r\n",
      "u\n",
      "c\n",
      "t\n",
      "u\n",
      "r\n",
      "i\n",
      "n\n",
      "g\n",
      " \n",
      "i\n",
      "n\n",
      " \n",
      "2\n",
      "0\n",
      "0\n",
      "4\n",
      ",\n",
      " \n",
      "t\n",
      "h\n",
      "e\n",
      " \n",
      "P\n",
      "C\n",
      "B\n",
      "A\n",
      " \n",
      "a\n",
      "n\n",
      "d\n",
      " \n",
      "P\n",
      "I\n",
      "C\n",
      "S\n",
      " \n",
      "o\n",
      "p\n",
      "e\n",
      "r\n",
      "a\n",
      "t\n",
      "e\n",
      " \n",
      "u\n",
      "n\n",
      "d\n",
      "e\n",
      "r\n",
      " \n",
      "t\n",
      "h\n",
      "e\n",
      " \n",
      "F\n",
      "a\n",
      "c\n",
      "u\n",
      "l\n",
      "t\n",
      "y\n",
      " \n",
      "o\n",
      "f\n",
      " \n",
      "M\n",
      "a\n",
      "n\n",
      "a\n",
      "g\n",
      "e\n",
      "m\n",
      "e\n",
      "n\n",
      "t\n",
      " \n",
      "S\n",
      "t\n",
      "u\n",
      "d\n",
      "i\n",
      "e\n",
      "s\n",
      " \n",
      "a\n",
      "n\n",
      "d\n",
      " \n",
      "F\n",
      "a\n",
      "c\n",
      "u\n",
      "l\n",
      "t\n",
      "y\n",
      " \n",
      "o\n",
      "f\n",
      " \n",
      "I\n",
      "n\n",
      "f\n",
      "o\n",
      "r\n",
      "m\n",
      "a\n",
      "t\n",
      "i\n",
      "o\n",
      "n\n",
      " \n",
      "T\n",
      "e\n",
      "c\n",
      "h\n",
      "n\n",
      "o\n",
      "l\n",
      "o\n",
      "g\n",
      "y\n",
      " \n",
      "o\n",
      "f\n",
      " \n",
      "t\n",
      "h\n",
      "e\n",
      " \n",
      "U\n",
      "n\n",
      "i\n",
      "v\n",
      "e\n",
      "r\n",
      "s\n",
      "i\n",
      "t\n",
      "y\n",
      " \n",
      "o\n",
      "f\n",
      " \n",
      "C\n",
      "e\n",
      "n\n",
      "t\n",
      "r\n",
      "a\n",
      "l\n",
      " \n",
      "P\n",
      "u\n",
      "n\n",
      "j\n",
      "a\n",
      "b\n",
      " \n",
      "r\n",
      "e\n",
      "s\n",
      "p\n",
      "e\n",
      "c\n",
      "t\n",
      "i\n",
      "v\n",
      "e\n",
      "l\n",
      "y\n",
      ".\n",
      " \n",
      "T\n",
      "h\n",
      "e\n",
      " \n",
      "P\n",
      "u\n",
      "n\n",
      "j\n",
      "a\n",
      "b\n",
      " \n",
      "C\n",
      "o\n",
      "l\n",
      "l\n",
      "e\n",
      "g\n",
      "e\n",
      "s\n",
      " \n",
      "o\n",
      "f\n",
      " \n",
      "C\n",
      "o\n",
      "m\n",
      "m\n",
      "e\n",
      "r\n",
      "c\n",
      "e\n",
      " \n",
      "a\n",
      "n\n",
      "d\n",
      " \n",
      "t\n",
      "h\n",
      "e\n",
      " \n",
      "P\n",
      "u\n",
      "n\n",
      "j\n",
      "a\n",
      "b\n",
      " \n",
      "L\n",
      "a\n",
      "w\n",
      " \n",
      "C\n",
      "o\n",
      "l\n",
      "l\n",
      "e\n",
      "g\n",
      "e\n",
      " \n",
      "r\n",
      "e\n",
      "s\n",
      "p\n",
      "e\n",
      "c\n",
      "t\n",
      "i\n",
      "v\n",
      "e\n",
      "l\n",
      "y\n",
      " \n",
      "f\n",
      "u\n",
      "n\n",
      "c\n",
      "t\n",
      "i\n",
      "o\n",
      "n\n",
      " \n",
      "u\n",
      "n\n",
      "d\n",
      "e\n",
      "r\n",
      " \n",
      "t\n",
      "h\n",
      "e\n",
      " \n",
      "F\n",
      "a\n",
      "c\n",
      "u\n",
      "l\n",
      "t\n",
      "i\n",
      "e\n",
      "s\n",
      " \n",
      "o\n",
      "f\n",
      " \n",
      "C\n",
      "o\n",
      "m\n",
      "m\n",
      "e\n",
      "r\n",
      "c\n",
      "e\n",
      " \n",
      "a\n",
      "n\n",
      "d\n",
      " \n",
      "o\n",
      "f\n",
      " \n",
      "L\n",
      "a\n",
      "w\n",
      " \n",
      "o\n",
      "f\n",
      " \n",
      "t\n",
      "h\n",
      "e\n",
      " \n",
      "U\n",
      "n\n",
      "i\n",
      "v\n",
      "e\n",
      "r\n",
      "s\n",
      "i\n",
      "t\n",
      "y\n",
      " \n",
      "o\n",
      "f\n",
      " \n",
      "C\n",
      "e\n",
      "n\n",
      "t\n",
      "r\n",
      "a\n",
      "l\n",
      " \n",
      "P\n",
      "u\n",
      "n\n",
      "j\n",
      "a\n",
      "b\n",
      ".\n",
      " \n",
      "T\n",
      "h\n",
      "e\n",
      " \n",
      "F\n",
      "a\n",
      "c\n",
      "u\n",
      "l\n",
      "t\n",
      "y\n",
      " \n",
      "o\n",
      "f\n",
      " \n",
      "E\n",
      "n\n",
      "g\n",
      "i\n",
      "n\n",
      "e\n",
      "e\n",
      "r\n",
      "i\n",
      "n\n",
      "g\n",
      " \n",
      "(\n",
      "F\n",
      "O\n",
      "E\n",
      ")\n",
      " \n",
      "w\n",
      "a\n",
      "s\n",
      " \n",
      "i\n",
      "n\n",
      "t\n",
      "r\n",
      "o\n",
      "d\n",
      "u\n",
      "c\n",
      "e\n",
      "d\n",
      " \n",
      "i\n",
      "n\n",
      " \n",
      "2\n",
      "0\n",
      "0\n",
      "2\n"
     ]
    }
   ],
   "source": [
    "length=len(ucpHistory)\n",
    "a=\" \"\n",
    "counter=0\n",
    "for x in range(length-1):\n",
    "   if ucpHistory[x]!='o'and ucpHistory[x+1]!='f' or ucpHistory[x]!='f' and ucpHistory[x-1]!='o' :\n",
    "    print( ucpHistory[x])\n"
   ]
  },
  {
   "cell_type": "code",
   "execution_count": 106,
   "id": "c72895dd",
   "metadata": {},
   "outputs": [
    {
     "name": "stdout",
     "output_type": "stream",
     "text": [
      "On 15 August 1996, The Punjab Group   Colleges petitioned Government   Punjab for the establishment   a university in the province. \\Punjab Institute   Computer Science (PICS), Punjab College   Commerce (PCC), Punjab Law College (PLC) and Punjab College   Information Technology (PCIT) formed the core   the university at the time   establishment.Following a restructuring in 2004, the PCBA and PICS operate under the Faculty   Management Studies and Faculty   Information Technology   the University   Central Punjab respectively. The Punjab Colleges   Commerce and the Punjab Law College respectively function under the Faculties   Commerce and   Law   the University   Central Punjab. The Faculty   Engineering (FOE) was introduced in 2002. "
     ]
    },
    {
     "ename": "IndexError",
     "evalue": "list index out of range",
     "output_type": "error",
     "traceback": [
      "\u001b[1;31m---------------------------------------------------------------------------\u001b[0m",
      "\u001b[1;31mIndexError\u001b[0m                                Traceback (most recent call last)",
      "\u001b[1;32m<ipython-input-106-bedebf2e4eea>\u001b[0m in \u001b[0;36m<module>\u001b[1;34m\u001b[0m\n\u001b[0;32m      1\u001b[0m \u001b[0mow\u001b[0m\u001b[1;33m=\u001b[0m\u001b[0mucpHistory\u001b[0m\u001b[1;33m.\u001b[0m\u001b[0msplit\u001b[0m\u001b[1;33m(\u001b[0m\u001b[1;34m\"of\"\u001b[0m\u001b[1;33m)\u001b[0m\u001b[1;33m\u001b[0m\u001b[1;33m\u001b[0m\u001b[0m\n\u001b[0;32m      2\u001b[0m \u001b[1;32mfor\u001b[0m \u001b[0mx\u001b[0m \u001b[1;32min\u001b[0m \u001b[0mrange\u001b[0m \u001b[1;33m(\u001b[0m\u001b[1;36m30\u001b[0m\u001b[1;33m)\u001b[0m\u001b[1;33m:\u001b[0m\u001b[1;33m\u001b[0m\u001b[1;33m\u001b[0m\u001b[0m\n\u001b[1;32m----> 3\u001b[1;33m     \u001b[0mprint\u001b[0m \u001b[1;33m(\u001b[0m\u001b[0mow\u001b[0m\u001b[1;33m[\u001b[0m\u001b[0mx\u001b[0m\u001b[1;33m]\u001b[0m\u001b[1;33m,\u001b[0m \u001b[0mend\u001b[0m \u001b[1;33m=\u001b[0m\u001b[1;34m\" \"\u001b[0m\u001b[1;33m)\u001b[0m\u001b[1;33m\u001b[0m\u001b[1;33m\u001b[0m\u001b[0m\n\u001b[0m",
      "\u001b[1;31mIndexError\u001b[0m: list index out of range"
     ]
    }
   ],
   "source": [
    "ow=ucpHistory.split(\"of\")\n",
    "for x in range (30):\n",
    "    print (ow[x], end =\" \")"
   ]
  },
  {
   "cell_type": "code",
   "execution_count": 97,
   "id": "5cd610be",
   "metadata": {},
   "outputs": [
    {
     "name": "stdout",
     "output_type": "stream",
     "text": [
      "['On 15 August 1996, The Punjab Group ', ' Colleges petitioned Government ', ' Punjab for the establishment ', ' a university in the province. \\\\Punjab Institute ', ' Computer Science (PICS), Punjab College ', ' Commerce (PCC), Punjab Law College (PLC) and Punjab College ', ' Information Technology (PCIT) formed the core ', ' the university at the time ', ' establishment.Following a restructuring in 2004, the PCBA and PICS operate under the Faculty ', ' Management Studies and Faculty ', ' Information Technology ', ' the University ', ' Central Punjab respectively. The Punjab Colleges ', ' Commerce and the Punjab Law College respectively function under the Faculties ', ' Commerce and ', ' Law ', ' the University ', ' Central Punjab. The Faculty ', ' Engineering (FOE) was introduced in 2002.']\n"
     ]
    }
   ],
   "source": [
    "ucpHistory=ow\n",
    "print(ow)"
   ]
  },
  {
   "cell_type": "code",
   "execution_count": null,
   "id": "8a9ecb13",
   "metadata": {},
   "outputs": [],
   "source": []
  }
 ],
 "metadata": {
  "kernelspec": {
   "display_name": "Python 3",
   "language": "python",
   "name": "python3"
  },
  "language_info": {
   "codemirror_mode": {
    "name": "ipython",
    "version": 3
   },
   "file_extension": ".py",
   "mimetype": "text/x-python",
   "name": "python",
   "nbconvert_exporter": "python",
   "pygments_lexer": "ipython3",
   "version": "3.8.8"
  }
 },
 "nbformat": 4,
 "nbformat_minor": 5
}
